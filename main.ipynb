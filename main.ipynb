{
 "cells": [
  {
   "cell_type": "code",
   "execution_count": null,
   "id": "79bf3c3d",
   "metadata": {},
   "outputs": [
    {
     "name": "stdout",
     "output_type": "stream",
     "text": [
      "Note: you may need to restart the kernel to use updated packages.\n"
     ]
    }
   ],
   "source": [
    "%pip install -q openai langchain langchain_community pypdf "
   ]
  },
  {
   "cell_type": "code",
   "execution_count": null,
   "id": "830a198b",
   "metadata": {},
   "outputs": [],
   "source": [
    "from openai import OpenAI\n",
    "import os\n",
    "from dotenv import load_dotenv\n",
    "\n",
    "load_dotenv()\n",
    "openai_api_key = os.getenv(\"OPENAI_API_KEY\")\n",
    "if not openai_api_key:\n",
    "    raise ValueError(\"OPENAI_API_KEY not found in environment variables\")\n",
    "\n",
    "client = OpenAI(api_key=openai_api_key)"
   ]
  },
  {
   "cell_type": "code",
   "execution_count": null,
   "id": "378d7a05",
   "metadata": {},
   "outputs": [
    {
     "name": "stdout",
     "output_type": "stream",
     "text": [
      "Number of pages: 8\n",
      "{'lc': 1, 'type': 'constructor', 'id': ['langchain', 'schema', 'document', 'Document'], 'kwargs': {'metadata': {'producer': 'Adobe PDF Library 10.0.1', 'creator': 'Adobe InDesign CS6 (Macintosh)', 'creationdate': '2013-02-12T08:06:14+01:00', 'moddate': '2013-10-31T10:20:17+01:00', 'trapped': '/False', 'source': 'pdf/1728286846_the_nestle_hr_policy_pdf_2012.pdf', 'total_pages': 8, 'page': 2, 'page_label': '3'}, 'page_content': 'The Nestlé Human Resources Policy\\n1\\nAt Nestlé, we recognize that our employees \\nare the key to our success and nothing can be \\nachieved without their engagement. \\nThis document encompasses the guidelines \\nwhich constitute a solid basis for effective Human \\nResources Management throughout the Nestlé \\nGroup around the world. It explains to all Nestlé \\nemployees the vision and mission of the Human \\nResources function and illustrates every aspect of \\nthe Nestlé employee lifecycle. \\nThe Nestlé Management and Leadership \\nPrinciples inspire all the Nestlé employees in their \\nactions and in their dealings with others. The \\nCorporate Business Principles refer to all the basic \\nprinciples which Nestlé endorses and subscribes \\nto on a worldwide basis. Both these documents \\nare the pillars on which the present policy has \\nbeen built.\\nThe implementation of this policy will be \\ninspired by sound judgement, compliance with \\nlocal market laws and common sense, taking into \\naccount the specific context. Its spirit should be \\nrespected under all circumstances and could be \\nsummarised in one sentence: At Nestlé we put \\npeople at the centre of everything we do.\\nJean-Marc Duvoisin\\nDeputy Executive Vice President\\n Introduction', 'type': 'Document'}}\n",
      "The Nestlé Human Resources Policy 1 At Nestlé, we recognize that our employees are the key to our success and nothing can be achieved without their engagement. This document encompasses the guidelines which constitute a solid basis for effective Human Resources Management throughout the Nestlé Group around the world. It explains to all Nestlé employees the vision and mission of the Human Resources function and illustrates every aspect of the Nestlé employee lifecycle. The Nestlé Management and Leadership Principles inspire all the Nestlé employees in their actions and in their dealings with others. The Corporate Business Principles refer to all the basic principles which Nestlé endorses and subscribes to on a worldwide basis. Both these documents are the pillars on which the present policy has been built. The implementation of this policy will be inspired by sound judgement, compliance with local market laws and common sense, taking into account the specific context. Its spirit should be respected under all circumstances and could be summarised in one sentence: At Nestlé we put people at the centre of everything we do. Jean-Marc Duvoisin Deputy Executive Vice President Introduction\n"
     ]
    }
   ],
   "source": [
    "from langchain_community.document_loaders import PyPDFLoader\n",
    "from langchain_core.documents import Document\n",
    "\n",
    "loader = PyPDFLoader(\"pdf/1728286846_the_nestle_hr_policy_pdf_2012.pdf\")\n",
    "pages: list[Document] = loader.load_and_split()\n",
    "\n"
   ]
  }
 ],
 "metadata": {
  "kernelspec": {
   "display_name": "purdue-ai",
   "language": "python",
   "name": "python3"
  },
  "language_info": {
   "codemirror_mode": {
    "name": "ipython",
    "version": 3
   },
   "file_extension": ".py",
   "mimetype": "text/x-python",
   "name": "python",
   "nbconvert_exporter": "python",
   "pygments_lexer": "ipython3",
   "version": "3.11.14"
  }
 },
 "nbformat": 4,
 "nbformat_minor": 5
}
